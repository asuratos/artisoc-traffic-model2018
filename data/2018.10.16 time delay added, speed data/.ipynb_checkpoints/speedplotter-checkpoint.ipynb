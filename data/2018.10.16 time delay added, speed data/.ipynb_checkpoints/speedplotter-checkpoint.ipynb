{
 "cells": [
  {
   "cell_type": "code",
   "execution_count": 1,
   "metadata": {
    "collapsed": true
   },
   "outputs": [],
   "source": [
    "import seaborn as sns\n",
    "import pandas as pd\n",
    "from matplotlib import pyplot as plt\n",
    "from matplotlib import patches as patches\n",
    "import numpy as np\n",
    "import os\n",
    "\n",
    "sns.set()\n",
    "\n",
    "try:\n",
    "    os.mkdir(\"plots\")\n",
    "    os.mkdir(\"plots\\Speeds\")\n",
    "except:\n",
    "    pass\n",
    "\n",
    "asocial_values = np.linspace(0.0, 1.0, num= 11)\n",
    "roaddensities = np.arange(10, 310, 10)"
   ]
  },
  {
   "cell_type": "code",
   "execution_count": null,
   "metadata": {
    "collapsed": true
   },
   "outputs": [],
   "source": []
  }
 ],
 "metadata": {
  "kernelspec": {
   "display_name": "Python 3",
   "language": "python",
   "name": "python3"
  },
  "language_info": {
   "codemirror_mode": {
    "name": "ipython",
    "version": 3
   },
   "file_extension": ".py",
   "mimetype": "text/x-python",
   "name": "python",
   "nbconvert_exporter": "python",
   "pygments_lexer": "ipython3",
   "version": "3.6.3"
  }
 },
 "nbformat": 4,
 "nbformat_minor": 2
}
