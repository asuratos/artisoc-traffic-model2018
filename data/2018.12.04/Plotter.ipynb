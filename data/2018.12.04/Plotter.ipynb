{
 "cells": [
  {
   "cell_type": "code",
   "execution_count": 1,
   "metadata": {
    "collapsed": true
   },
   "outputs": [],
   "source": [
    "import seaborn as sns\n",
    "import pandas as pd\n",
    "from matplotlib import pyplot as plt\n",
    "import numpy as np\n",
    "import os\n",
    "import glob\n",
    "\n",
    "sns.set()\n",
    "outputext = \"jpg\"\n",
    "\n",
    "try:\n",
    "    os.mkdir(\"plots\")\n",
    "except:\n",
    "    pass"
   ]
  },
  {
   "cell_type": "markdown",
   "metadata": {},
   "source": [
    "# Phantom Jams"
   ]
  },
  {
   "cell_type": "code",
   "execution_count": 2,
   "metadata": {
    "collapsed": true
   },
   "outputs": [],
   "source": [
    "#Prepare relevant plot directories\n",
    "try:\n",
    "    os.mkdir(\"plots\\Jams\")\n",
    "    os.mkdir(\"plots\\Jams\\\\\"+outputext)\n",
    "except:\n",
    "    pass"
   ]
  },
  {
   "cell_type": "code",
   "execution_count": 3,
   "metadata": {
    "collapsed": true
   },
   "outputs": [],
   "source": [
    "jamdata = pd.read_csv(\"Jams.csv\")"
   ]
  },
  {
   "cell_type": "markdown",
   "metadata": {},
   "source": [
    "## Plotting each case"
   ]
  },
  {
   "cell_type": "code",
   "execution_count": 4,
   "metadata": {
    "collapsed": true
   },
   "outputs": [],
   "source": [
    "for reaction in jamdata[\"Reaction\"].unique():\n",
    "    for density in jamdata[\"Total Cars\"].unique():\n",
    "        for asocialrate in jamdata[\"ASocial Rate\"].unique():\n",
    "            sns.scatterplot(x = \"Time\", y = \"Y\", s = 20,\n",
    "                        data = jamdata[(jamdata[\"Total Cars\"] == density) & \n",
    "                                       (jamdata[\"Reaction\"] == reaction) & \n",
    "                                       (jamdata[\"ASocial Rate\"] == asocialrate)])\n",
    "    \n",
    "            plt.title(\"Location of Traffic Jams\\n(%s cars, %s asocial rate, %s reaction time)\" % (density, asocialrate, reaction))\n",
    "    \n",
    "            plt.xlabel(\"Time (s)\")\n",
    "            plt.ylabel(\"Position on Road\")\n",
    "    \n",
    "            plt.xlim(xmin = jamdata[\"Time\"].min(), xmax = jamdata[\"Time\"].max())\n",
    "            plt.ylim(ymin = 0, ymax = 300)\n",
    "    \n",
    "            plt.savefig(\"plots\\Jams\\\\\" \n",
    "                        + outputext \n",
    "                        + \"\\jamlocation_%scars_%sasocial_%sreaction.\" % (density, asocialrate, reaction) \n",
    "                        + outputext)\n",
    "            plt.clf()\n",
    "            #plt.show()"
   ]
  },
  {
   "cell_type": "markdown",
   "metadata": {
    "collapsed": true
   },
   "source": [
    "# This portion plots speed timeseries"
   ]
  },
  {
   "cell_type": "code",
   "execution_count": 5,
   "metadata": {
    "collapsed": true
   },
   "outputs": [],
   "source": [
    "#Prepare relevant plot directories\n",
    "try:\n",
    "    os.mkdir(\"plots\\SpeedSeries\")\n",
    "    os.mkdir(\"plots\\SpeedSeries\\\\\"+outputext)\n",
    "except:\n",
    "    pass"
   ]
  },
  {
   "cell_type": "code",
   "execution_count": 6,
   "metadata": {
    "collapsed": true
   },
   "outputs": [],
   "source": [
    "speeds = pd.read_csv(\"singlecar.csv\")"
   ]
  },
  {
   "cell_type": "markdown",
   "metadata": {},
   "source": [
    "## Plotting individual cases"
   ]
  },
  {
   "cell_type": "code",
   "execution_count": 7,
   "metadata": {
    "collapsed": true,
    "scrolled": true
   },
   "outputs": [],
   "source": [
    "for reaction in speeds[\"Reaction\"].unique():\n",
    "    for density in speeds[\"TotalCars\"].unique():\n",
    "        for asocialrate in speeds[\"ASocial Rate\"].unique(): \n",
    "            \n",
    "            dataslice = speeds[(speeds[\"Reaction\"] == reaction) &\n",
    "                               (speeds[\"ASocial Rate\"] == asocialrate) &\n",
    "                               (speeds[\"TotalCars\"] == density)]\n",
    "            \n",
    "            for asocial in dataslice[\"ASocial\"].unique():\n",
    "                sns.lineplot(x = \"Lifetime\", \n",
    "                             y = \"Speed\",\n",
    "                             data = dataslice[dataslice[\"ASocial\"] == asocial],\n",
    "                             err_style = None)\n",
    "\n",
    "                plt.title(\"Speed for a single car\\n(%s cars, %s asocial rate, %s reaction, %s)\" \n",
    "                          % (density, asocialrate, reaction, \"ASocial\" if asocial else \"Social\"))\n",
    "\n",
    "                plt.ylim(ymin = 0)\n",
    "                plt.xlim(xmin = 0, xmax = dataslice[dataslice[\"ASocial\"] == asocial][\"Lifetime\"].max())\n",
    "                \n",
    "                plt.xlabel(\"Time (s)\")\n",
    "                plt.ylabel(\"Speed (km/h)\")\n",
    "\n",
    "                plt.savefig(\"plots\\SpeedSeries\\\\\"\n",
    "                            + outputext\n",
    "                            + \"\\speedseries_%scars_%sasocialrate_%sreaction_%s.\" \n",
    "                            % (density, asocialrate, reaction, \"asocial\" if asocial else \"social\")\n",
    "                            + outputext)\n",
    "                \n",
    "                plt.clf()\n",
    "                #plt.show()"
   ]
  },
  {
   "cell_type": "markdown",
   "metadata": {
    "collapsed": true
   },
   "source": [
    "# Plotting speeds/congestion"
   ]
  },
  {
   "cell_type": "code",
   "execution_count": 8,
   "metadata": {
    "collapsed": true
   },
   "outputs": [],
   "source": [
    "#Prepare relevant plot directories\n",
    "try:\n",
    "    os.mkdir(\"plots\\congestion\")\n",
    "    os.mkdir(\"plots\\congestion\\\\\"+outputext)\n",
    "except:\n",
    "    pass"
   ]
  },
  {
   "cell_type": "code",
   "execution_count": 9,
   "metadata": {
    "collapsed": true
   },
   "outputs": [],
   "source": [
    "speeddata = pd.read_csv(\"speeds.csv\")"
   ]
  },
  {
   "cell_type": "code",
   "execution_count": 10,
   "metadata": {},
   "outputs": [],
   "source": [
    "for asocialrate in speeddata[\"ASocial Rate\"].unique():\n",
    "    dataslice = speeddata[speeddata[\"ASocial Rate\"] == asocialrate]\n",
    "    sns.lineplot(x = \"Total Cars\", \n",
    "                 y = \"Slowed\", \n",
    "                 data = dataslice,\n",
    "                 style = \"ASocial\",\n",
    "                 hue = dataslice[\"Reaction Time\"].replace(dataslice[\"Reaction Time\"].unique(), [\"Instant\", \"Normal\", \"Slow\"]),\n",
    "                err_style= None)\n",
    "\n",
    "    plt.title(\"Ratio of slowed cars (%s asocial rate)\" % asocialrate)\n",
    "    \n",
    "\n",
    "    plt.xlim(xmin = dataslice[\"Total Cars\"].min(), xmax = dataslice[\"Total Cars\"].max())\n",
    "    plt.ylim(ymin = 0, ymax = 1)\n",
    "    \n",
    "    plt.ylabel(\"Ratio of Cars Slowed\")\n",
    "    \n",
    "    plt.savefig(\"plots\\congestion\\\\\"\n",
    "               +outputext\n",
    "               +\"\\congestion_%sasocialrate.\" % asocialrate\n",
    "               +outputext)\n",
    "    plt.clf()\n",
    "    #plt.show()"
   ]
  }
 ],
 "metadata": {
  "kernelspec": {
   "display_name": "Python 3",
   "language": "python",
   "name": "python3"
  },
  "language_info": {
   "codemirror_mode": {
    "name": "ipython",
    "version": 3
   },
   "file_extension": ".py",
   "mimetype": "text/x-python",
   "name": "python",
   "nbconvert_exporter": "python",
   "pygments_lexer": "ipython3",
   "version": "3.6.3"
  }
 },
 "nbformat": 4,
 "nbformat_minor": 2
}
