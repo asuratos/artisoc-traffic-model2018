{
 "cells": [
  {
   "cell_type": "code",
   "execution_count": 1,
   "metadata": {
    "collapsed": true
   },
   "outputs": [],
   "source": [
    "import seaborn as sns\n",
    "import pandas as pd\n",
    "from matplotlib import pyplot as plt\n",
    "import numpy as np\n",
    "import os\n",
    "import glob\n",
    "\n",
    "sns.set()\n",
    "outputext = \"jpg\"\n",
    "\n",
    "try:\n",
    "    os.mkdir(\"plots\")\n",
    "except:\n",
    "    pass"
   ]
  },
  {
   "cell_type": "markdown",
   "metadata": {},
   "source": [
    "# Phantom Jams"
   ]
  },
  {
   "cell_type": "code",
   "execution_count": 2,
   "metadata": {
    "collapsed": true
   },
   "outputs": [],
   "source": [
    "#Prepare relevant plot directories\n",
    "try:\n",
    "    os.mkdir(\"plots\\Jams\")\n",
    "    os.mkdir(\"plots\\Jams\\\\\"+outputext)\n",
    "except:\n",
    "    pass"
   ]
  },
  {
   "cell_type": "code",
   "execution_count": 3,
   "metadata": {
    "collapsed": true
   },
   "outputs": [],
   "source": [
    "jamdata = pd.read_csv(\"Jams.csv\")"
   ]
  },
  {
   "cell_type": "markdown",
   "metadata": {},
   "source": [
    "## Plotting each case"
   ]
  },
  {
   "cell_type": "code",
   "execution_count": 4,
   "metadata": {
    "collapsed": true
   },
   "outputs": [],
   "source": [
    "for reaction in jamdata[\"Reaction\"].unique():\n",
    "    for density in jamdata[\"Total Cars\"].unique():\n",
    "        for asocialrate in jamdata[\"ASocial Rate\"].unique():\n",
    "            sns.scatterplot(x = \"Time\", y = \"Y\", s = 20,\n",
    "                        data = jamdata[(jamdata[\"Total Cars\"] == density) & \n",
    "                                       (jamdata[\"Reaction\"] == reaction) & \n",
    "                                       (jamdata[\"ASocial Rate\"] == asocialrate)])\n",
    "    \n",
    "            plt.title(\"Location of Traffic Jams\\n(%s cars, %s asocial rate, %s reaction time)\" % (density, asocialrate, reaction))\n",
    "    \n",
    "            plt.xlabel(\"Time (s)\")\n",
    "            plt.ylabel(\"Position on Road\")\n",
    "    \n",
    "            plt.xlim(xmin = jamdata[\"Time\"].min(), xmax = jamdata[\"Time\"].max())\n",
    "            plt.ylim(ymin = 0, ymax = 300)\n",
    "    \n",
    "            plt.savefig(\"plots\\Jams\\\\\" \n",
    "                        + outputext \n",
    "                        + \"\\jamlocation_%scars_%sasocial_%sreaction.\" % (density, asocialrate, reaction) \n",
    "                        + outputext)\n",
    "            plt.clf()\n",
    "            #plt.show()"
   ]
  },
  {
   "cell_type": "markdown",
   "metadata": {
    "collapsed": true
   },
   "source": [
    "# This portion plots speed timeseries"
   ]
  },
  {
   "cell_type": "code",
   "execution_count": 5,
   "metadata": {
    "collapsed": true
   },
   "outputs": [],
   "source": [
    "#Prepare relevant plot directories\n",
    "try:\n",
    "    os.mkdir(\"plots\\SpeedSeries\")\n",
    "    os.mkdir(\"plots\\SpeedSeries\\\\\"+outputext)\n",
    "except:\n",
    "    pass"
   ]
  },
  {
   "cell_type": "code",
   "execution_count": 6,
   "metadata": {
    "collapsed": true
   },
   "outputs": [],
   "source": [
    "speeds = pd.read_csv(\"singlecar.csv\")"
   ]
  },
  {
   "cell_type": "markdown",
   "metadata": {},
   "source": [
    "## Plotting individual cases"
   ]
  },
  {
   "cell_type": "code",
   "execution_count": 7,
   "metadata": {
    "collapsed": true,
    "scrolled": true
   },
   "outputs": [],
   "source": [
    "for reaction in speeds[\"Reaction\"].unique():\n",
    "    for density in speeds[\"TotalCars\"].unique():\n",
    "        for asocialrate in speeds[\"ASocial Rate\"].unique(): \n",
    "            \n",
    "            dataslice = speeds[(speeds[\"Reaction\"] == reaction) &\n",
    "                               (speeds[\"ASocial Rate\"] == asocialrate) &\n",
    "                               (speeds[\"TotalCars\"] == density)]\n",
    "            \n",
    "            for asocial in dataslice[\"ASocial\"].unique():\n",
    "                sns.lineplot(x = \"Lifetime\", \n",
    "                             y = \"Speed\",\n",
    "                             data = dataslice[dataslice[\"ASocial\"] == asocial],\n",
    "                             err_style = None)\n",
    "\n",
    "                plt.title(\"Speed for a single car\\n(%s cars, %s asocial rate, %s reaction, %s)\" \n",
    "                          % (density, asocialrate, reaction, \"ASocial\" if asocial else \"Social\"))\n",
    "\n",
    "                plt.ylim(ymin = 0)\n",
    "                plt.xlim(xmin = 0, xmax = dataslice[dataslice[\"ASocial\"] == asocial][\"Lifetime\"].max())\n",
    "                \n",
    "                plt.xlabel(\"Time (s)\")\n",
    "                plt.ylabel(\"Speed (km/h)\")\n",
    "\n",
    "                plt.savefig(\"plots\\SpeedSeries\\\\\"\n",
    "                            + outputext\n",
    "                            + \"\\speedseries_%scars_%sasocialrate_%sreaction_%s.\" \n",
    "                            % (density, asocialrate, reaction, \"asocial\" if asocial else \"social\")\n",
    "                            + outputext)\n",
    "                \n",
    "                plt.clf()\n",
    "                #plt.show()"
   ]
  },
  {
   "cell_type": "markdown",
   "metadata": {
    "collapsed": true
   },
   "source": [
    "# Plotting speeds/congestion"
   ]
  },
  {
   "cell_type": "code",
   "execution_count": 8,
   "metadata": {
    "collapsed": true
   },
   "outputs": [],
   "source": [
    "#Prepare relevant plot directories\n",
    "try:\n",
    "    os.mkdir(\"plots\\congestion\")\n",
    "    os.mkdir(\"plots\\congestion\\\\\"+outputext)\n",
    "except:\n",
    "    pass"
   ]
  },
  {
   "cell_type": "code",
   "execution_count": 9,
   "metadata": {
    "collapsed": true
   },
   "outputs": [],
   "source": [
    "speeddata = pd.read_csv(\"speeds.csv\")"
   ]
  },
  {
   "cell_type": "code",
   "execution_count": 10,
   "metadata": {
    "collapsed": true
   },
   "outputs": [],
   "source": [
    "for asocialrate in speeddata[\"ASocial Rate\"].unique():\n",
    "    dataslice = speeddata[speeddata[\"ASocial Rate\"] == asocialrate]\n",
    "    sns.lineplot(x = \"Total Cars\", \n",
    "                 y = \"Slowed\", \n",
    "                 data = dataslice,\n",
    "                 style = \"ASocial\",\n",
    "                 hue = dataslice[\"Reaction Time\"].replace(dataslice[\"Reaction Time\"].unique(), [\"Instant\", \"Normal\", \"Slow\"]),\n",
    "                err_style= None)\n",
    "\n",
    "    plt.title(\"Ratio of slowed cars (%s asocial rate)\" % asocialrate)\n",
    "    \n",
    "\n",
    "    plt.xlim(xmin = dataslice[\"Total Cars\"].min(), xmax = dataslice[\"Total Cars\"].max())\n",
    "    plt.ylim(ymin = 0, ymax = 1)\n",
    "    \n",
    "    plt.ylabel(\"Ratio of Cars Slowed\")\n",
    "    \n",
    "    plt.savefig(\"plots\\congestion\\\\\"\n",
    "               +outputext\n",
    "               +\"\\congestion_%sasocialrate.\" % asocialrate\n",
    "               +outputext)\n",
    "    plt.clf()\n",
    "    #plt.show()"
   ]
  },
  {
   "cell_type": "markdown",
   "metadata": {},
   "source": [
    "# Travel Time/Lane Changes"
   ]
  },
  {
   "cell_type": "code",
   "execution_count": 11,
   "metadata": {
    "collapsed": true
   },
   "outputs": [],
   "source": [
    "metricdata = pd.read_csv(\"output.csv\")"
   ]
  },
  {
   "cell_type": "code",
   "execution_count": 12,
   "metadata": {},
   "outputs": [
    {
     "data": {
      "text/html": [
       "<div>\n",
       "<style>\n",
       "    .dataframe thead tr:only-child th {\n",
       "        text-align: right;\n",
       "    }\n",
       "\n",
       "    .dataframe thead th {\n",
       "        text-align: left;\n",
       "    }\n",
       "\n",
       "    .dataframe tbody tr th {\n",
       "        vertical-align: top;\n",
       "    }\n",
       "</style>\n",
       "<table border=\"1\" class=\"dataframe\">\n",
       "  <thead>\n",
       "    <tr style=\"text-align: right;\">\n",
       "      <th></th>\n",
       "      <th>Travel Time</th>\n",
       "      <th>Max Speed</th>\n",
       "      <th>Reaction Time</th>\n",
       "      <th>Lane Changes</th>\n",
       "      <th>ASocial</th>\n",
       "      <th>Number of Waves</th>\n",
       "      <th>Spacing Between Lights</th>\n",
       "      <th>Stoplight Active Time</th>\n",
       "      <th>Total Cars</th>\n",
       "      <th>ASocial Rate</th>\n",
       "      <th>Unnamed: 10</th>\n",
       "    </tr>\n",
       "  </thead>\n",
       "  <tbody>\n",
       "    <tr>\n",
       "      <th>0</th>\n",
       "      <td>196</td>\n",
       "      <td>55.080561</td>\n",
       "      <td>0.0</td>\n",
       "      <td>0</td>\n",
       "      <td>False</td>\n",
       "      <td>1</td>\n",
       "      <td>30</td>\n",
       "      <td>1.0</td>\n",
       "      <td>10</td>\n",
       "      <td>0.0</td>\n",
       "      <td>NaN</td>\n",
       "    </tr>\n",
       "    <tr>\n",
       "      <th>1</th>\n",
       "      <td>209</td>\n",
       "      <td>51.647405</td>\n",
       "      <td>0.0</td>\n",
       "      <td>0</td>\n",
       "      <td>False</td>\n",
       "      <td>1</td>\n",
       "      <td>30</td>\n",
       "      <td>1.0</td>\n",
       "      <td>10</td>\n",
       "      <td>0.0</td>\n",
       "      <td>NaN</td>\n",
       "    </tr>\n",
       "    <tr>\n",
       "      <th>2</th>\n",
       "      <td>187</td>\n",
       "      <td>57.675715</td>\n",
       "      <td>0.0</td>\n",
       "      <td>0</td>\n",
       "      <td>False</td>\n",
       "      <td>1</td>\n",
       "      <td>30</td>\n",
       "      <td>1.0</td>\n",
       "      <td>10</td>\n",
       "      <td>0.0</td>\n",
       "      <td>NaN</td>\n",
       "    </tr>\n",
       "    <tr>\n",
       "      <th>3</th>\n",
       "      <td>192</td>\n",
       "      <td>63.555562</td>\n",
       "      <td>0.0</td>\n",
       "      <td>0</td>\n",
       "      <td>False</td>\n",
       "      <td>1</td>\n",
       "      <td>30</td>\n",
       "      <td>1.0</td>\n",
       "      <td>10</td>\n",
       "      <td>0.0</td>\n",
       "      <td>NaN</td>\n",
       "    </tr>\n",
       "    <tr>\n",
       "      <th>4</th>\n",
       "      <td>198</td>\n",
       "      <td>54.429760</td>\n",
       "      <td>0.0</td>\n",
       "      <td>0</td>\n",
       "      <td>False</td>\n",
       "      <td>1</td>\n",
       "      <td>30</td>\n",
       "      <td>1.0</td>\n",
       "      <td>10</td>\n",
       "      <td>0.0</td>\n",
       "      <td>NaN</td>\n",
       "    </tr>\n",
       "  </tbody>\n",
       "</table>\n",
       "</div>"
      ],
      "text/plain": [
       "   Travel Time  Max Speed  Reaction Time  Lane Changes  ASocial  \\\n",
       "0          196  55.080561            0.0             0    False   \n",
       "1          209  51.647405            0.0             0    False   \n",
       "2          187  57.675715            0.0             0    False   \n",
       "3          192  63.555562            0.0             0    False   \n",
       "4          198  54.429760            0.0             0    False   \n",
       "\n",
       "   Number of Waves  Spacing Between Lights  Stoplight Active Time  Total Cars  \\\n",
       "0                1                      30                    1.0          10   \n",
       "1                1                      30                    1.0          10   \n",
       "2                1                      30                    1.0          10   \n",
       "3                1                      30                    1.0          10   \n",
       "4                1                      30                    1.0          10   \n",
       "\n",
       "   ASocial Rate  Unnamed: 10  \n",
       "0           0.0          NaN  \n",
       "1           0.0          NaN  \n",
       "2           0.0          NaN  \n",
       "3           0.0          NaN  \n",
       "4           0.0          NaN  "
      ]
     },
     "execution_count": 12,
     "metadata": {},
     "output_type": "execute_result"
    }
   ],
   "source": [
    "metricdata.head()"
   ]
  },
  {
   "cell_type": "code",
   "execution_count": 29,
   "metadata": {
    "collapsed": true
   },
   "outputs": [],
   "source": [
    "dataslice = metricdata[(metricdata[\"Total Cars\"] == 200) &\n",
    "                      (metricdata[\"Reaction Time\"] == 0.5)]"
   ]
  },
  {
   "cell_type": "code",
   "execution_count": 25,
   "metadata": {},
   "outputs": [
    {
     "data": {
      "image/png": "[encoded data removed]",
      "text/plain": [
       "<Figure size 432x288 with 1 Axes>"
      ]
     },
     "metadata": {},
     "output_type": "display_data"
    }
   ],
   "source": [
    "sns.distplot(a = dataslice[dataslice[\"ASocial\"]][\"Travel Time\"], hist = False)\n",
    "sns.distplot(a = dataslice[~dataslice[\"ASocial\"]][\"Travel Time\"], hist = False)\n",
    "plt.show()"
   ]
  },
  {
   "cell_type": "code",
   "execution_count": 28,
   "metadata": {},
   "outputs": [
    {
     "data": {
      "image/png": "[encoded data removed]",
      "text/plain": [
       "<Figure size 432x288 with 1 Axes>"
      ]
     },
     "metadata": {},
     "output_type": "display_data"
    }
   ],
   "source": [
    "sns.boxplot(x = \"ASocial Rate\", y = \"Lane Changes\", data = dataslice, hue = \"ASocial\")\n",
    "plt.show()"
   ]
  },
  {
   "cell_type": "code",
   "execution_count": null,
   "metadata": {
    "collapsed": true
   },
   "outputs": [],
   "source": []
  }
 ],
 "metadata": {
  "kernelspec": {
   "display_name": "Python 3",
   "language": "python",
   "name": "python3"
  },
  "language_info": {
   "codemirror_mode": {
    "name": "ipython",
    "version": 3
   },
   "file_extension": ".py",
   "mimetype": "text/x-python",
   "name": "python",
   "nbconvert_exporter": "python",
   "pygments_lexer": "ipython3",
   "version": "3.6.3"
  }
 },
 "nbformat": 4,
 "nbformat_minor": 2
}
